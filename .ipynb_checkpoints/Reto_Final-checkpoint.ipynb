{
 "cells": [
  {
   "cell_type": "markdown",
   "metadata": {},
   "source": [
    "**Este notebook puede carecer de tildes debido que la distribucion de mi teclado es estadounidense (en-US). Lamento las moletias.**"
   ]
  },
  {
   "cell_type": "markdown",
   "metadata": {},
   "source": [
    "# Manejo y unificacion de diferentes bases de datos"
   ]
  },
  {
   "cell_type": "markdown",
   "metadata": {},
   "source": [
    "La empresa The best Company dedicada a producir repuestos automovilísticos conoce que la baja productividad de sus colaboradores esta dada en gran medida por los ausentismos a las jornadas laborales.  \n",
    "Teniendo en cuenta lo anterior le solicita apoyo a usted para poder evaluar esta situación y le comparte las siguientes 5 bases de datos.  \n",
    "* `Ausentismo.xlsx`: Esta cuenta con la información de las horas de ausentismo por mes y por colaborador desde enero del 2017 a junio de 2018.\n",
    "* `Codigo_Cargo.txt`: Es una base de datos de homologación para identificar el nombre del cargo colaborador, junto con el código del cargo.\n",
    "* `Colaboradores.csv`:  Dentro de ella se encuentran el id del colaborador, el código del cargo, el área y el periodo en el que se registra la información, ya que puede que el colaborador rote entre áreas en los diferentes meses.\n",
    "* `Número_Horas_Contratadas1.csv`: Cuenta con el número de horas contratadas por mes para cada colaborador en algunos meses.\n",
    "* `Número_Horas_Contratadas2.csv`: Aquí se registra el número de horas contratadas por mes para cada colaborador en algunos meses. Esta base cuenta con información de meses distinta a Número_Horas_Contratadas1.  \n",
    "\n",
    "La idea general del ejercicio es unificar las bases de datos aca mencionadas, de tal manera que se use la base `Colaboradores.csv` como base del ejercicio. Al final se obtendra una base en cual es posible relacionar el ID del empleado, el codigo de su cargo, la descripcion de su cargo, junto con las horas totales trabajas y no trabajadas en un cierto periodo de tiempo. "
   ]
  },
  {
   "cell_type": "code",
   "execution_count": 1,
   "metadata": {},
   "outputs": [],
   "source": [
    "#Libreria necesaria para el manejo de bases de datos\n",
    "import pandas as pd"
   ]
  },
  {
   "cell_type": "markdown",
   "metadata": {},
   "source": [
    "## Trabajando con `Ausentismo.xlsx`\n",
    "El archivo excel en particular tiene posee dos hojas de calculo: en la primera `Incapacidades` se registran las horas no laboradas debido a incapacidades. En la segunda hoja `Ausentismos` se registran las horas de ausencia por motivos varios. El objetivo final es obtener un dataframe con los id's de los empleado junto con el numero total de horas de no trabajadas (ausentismos + incapacidades)."
   ]
  },
  {
   "cell_type": "code",
   "execution_count": 2,
   "metadata": {},
   "outputs": [],
   "source": [
    "# Importando la primera hoja de calculo y se asigna al DF 'incapacidades'\n",
    "incapacidades = pd.read_excel('Ausentismo_Incapacidades.xlsx', sheet_name='Incapacidades', header = 9, \n",
    "                              usecols = range(3,24), index_col=0)"
   ]
  },
  {
   "cell_type": "code",
   "execution_count": 3,
   "metadata": {},
   "outputs": [],
   "source": [
    "#Importando la segunda hoja de calculo y se asigna al DF 'ausentismos'\n",
    "ausentismos = pd.read_excel('Ausentismo_Incapacidades.xlsx', sheet_name=' Ausentismos', header = 9,\n",
    "                           usecols = range(3,24), index_col=0)"
   ]
  },
  {
   "cell_type": "code",
   "execution_count": 4,
   "metadata": {},
   "outputs": [],
   "source": [
    "#Renombrando las columnas necesarias\n",
    "incapacidades.rename(columns = {'Unnamed: 4':'ID_Empleado', 'Unnamed: 5':'Unidades'}, inplace = True)\n",
    "ausentismos.rename(columns = {'Unnamed: 4':'ID_Empleado', 'Unnamed: 5':'Unidades'}, inplace = True)"
   ]
  },
  {
   "cell_type": "code",
   "execution_count": 5,
   "metadata": {},
   "outputs": [
    {
     "data": {
      "text/html": [
       "<div>\n",
       "<style scoped>\n",
       "    .dataframe tbody tr th:only-of-type {\n",
       "        vertical-align: middle;\n",
       "    }\n",
       "\n",
       "    .dataframe tbody tr th {\n",
       "        vertical-align: top;\n",
       "    }\n",
       "\n",
       "    .dataframe thead th {\n",
       "        text-align: right;\n",
       "    }\n",
       "</style>\n",
       "<table border=\"1\" class=\"dataframe\">\n",
       "  <thead>\n",
       "    <tr style=\"text-align: right;\">\n",
       "      <th></th>\n",
       "      <th>ID_Empleado</th>\n",
       "      <th>Unidades</th>\n",
       "      <th>Ene-17</th>\n",
       "      <th>Feb-17</th>\n",
       "      <th>Mar-17</th>\n",
       "      <th>Abri-17</th>\n",
       "      <th>May-17</th>\n",
       "      <th>Jun-17</th>\n",
       "      <th>Jul-17</th>\n",
       "      <th>Ago-17</th>\n",
       "      <th>2017-09-01 00:00:00</th>\n",
       "      <th>Oct-17</th>\n",
       "      <th>Nov-17</th>\n",
       "      <th>2017-12-01 00:00:00</th>\n",
       "      <th>Ene-18</th>\n",
       "      <th>Feb-18</th>\n",
       "      <th>Mar-18</th>\n",
       "      <th>Abri-18</th>\n",
       "      <th>May-18</th>\n",
       "      <th>Jun-18</th>\n",
       "    </tr>\n",
       "  </thead>\n",
       "  <tbody>\n",
       "    <tr>\n",
       "      <th>1</th>\n",
       "      <td>101434</td>\n",
       "      <td>horas</td>\n",
       "      <td>0</td>\n",
       "      <td>0</td>\n",
       "      <td>0</td>\n",
       "      <td>0</td>\n",
       "      <td>0</td>\n",
       "      <td>0</td>\n",
       "      <td>0</td>\n",
       "      <td>0</td>\n",
       "      <td>0</td>\n",
       "      <td>0</td>\n",
       "      <td>0</td>\n",
       "      <td>0</td>\n",
       "      <td>0</td>\n",
       "      <td>0</td>\n",
       "      <td>0</td>\n",
       "      <td>0</td>\n",
       "      <td>0</td>\n",
       "      <td>24</td>\n",
       "    </tr>\n",
       "    <tr>\n",
       "      <th>2</th>\n",
       "      <td>101463</td>\n",
       "      <td>horas</td>\n",
       "      <td>0</td>\n",
       "      <td>0</td>\n",
       "      <td>0</td>\n",
       "      <td>0</td>\n",
       "      <td>0</td>\n",
       "      <td>0</td>\n",
       "      <td>0</td>\n",
       "      <td>0</td>\n",
       "      <td>0</td>\n",
       "      <td>0</td>\n",
       "      <td>0</td>\n",
       "      <td>0</td>\n",
       "      <td>0</td>\n",
       "      <td>0</td>\n",
       "      <td>0</td>\n",
       "      <td>0</td>\n",
       "      <td>0</td>\n",
       "      <td>0</td>\n",
       "    </tr>\n",
       "    <tr>\n",
       "      <th>3</th>\n",
       "      <td>101484</td>\n",
       "      <td>horas</td>\n",
       "      <td>0</td>\n",
       "      <td>0</td>\n",
       "      <td>0</td>\n",
       "      <td>0</td>\n",
       "      <td>0</td>\n",
       "      <td>0</td>\n",
       "      <td>0</td>\n",
       "      <td>0</td>\n",
       "      <td>0</td>\n",
       "      <td>0</td>\n",
       "      <td>0</td>\n",
       "      <td>0</td>\n",
       "      <td>0</td>\n",
       "      <td>0</td>\n",
       "      <td>0</td>\n",
       "      <td>0</td>\n",
       "      <td>0</td>\n",
       "      <td>0</td>\n",
       "    </tr>\n",
       "    <tr>\n",
       "      <th>4</th>\n",
       "      <td>101675</td>\n",
       "      <td>horas</td>\n",
       "      <td>0</td>\n",
       "      <td>0</td>\n",
       "      <td>0</td>\n",
       "      <td>0</td>\n",
       "      <td>0</td>\n",
       "      <td>0</td>\n",
       "      <td>0</td>\n",
       "      <td>0</td>\n",
       "      <td>0</td>\n",
       "      <td>0</td>\n",
       "      <td>0</td>\n",
       "      <td>0</td>\n",
       "      <td>0</td>\n",
       "      <td>0</td>\n",
       "      <td>24</td>\n",
       "      <td>0</td>\n",
       "      <td>0</td>\n",
       "      <td>0</td>\n",
       "    </tr>\n",
       "    <tr>\n",
       "      <th>5</th>\n",
       "      <td>101731</td>\n",
       "      <td>horas</td>\n",
       "      <td>0</td>\n",
       "      <td>0</td>\n",
       "      <td>0</td>\n",
       "      <td>0</td>\n",
       "      <td>24</td>\n",
       "      <td>0</td>\n",
       "      <td>0</td>\n",
       "      <td>0</td>\n",
       "      <td>0</td>\n",
       "      <td>0</td>\n",
       "      <td>0</td>\n",
       "      <td>0</td>\n",
       "      <td>0</td>\n",
       "      <td>0</td>\n",
       "      <td>0</td>\n",
       "      <td>0</td>\n",
       "      <td>0</td>\n",
       "      <td>0</td>\n",
       "    </tr>\n",
       "  </tbody>\n",
       "</table>\n",
       "</div>"
      ],
      "text/plain": [
       "   ID_Empleado Unidades   Ene-17   Feb-17   Mar-17   Abri-17   May-17  \\\n",
       "1       101434    horas        0        0        0         0        0   \n",
       "2       101463    horas        0        0        0         0        0   \n",
       "3       101484    horas        0        0        0         0        0   \n",
       "4       101675    horas        0        0        0         0        0   \n",
       "5       101731    horas        0        0        0         0       24   \n",
       "\n",
       "    Jun-17   Jul-17   Ago-17  2017-09-01 00:00:00   Oct-17   Nov-17  \\\n",
       "1        0        0        0                    0        0        0   \n",
       "2        0        0        0                    0        0        0   \n",
       "3        0        0        0                    0        0        0   \n",
       "4        0        0        0                    0        0        0   \n",
       "5        0        0        0                    0        0        0   \n",
       "\n",
       "   2017-12-01 00:00:00   Ene-18   Feb-18   Mar-18   Abri-18   May-18   Jun-18  \n",
       "1                    0        0        0        0         0        0       24  \n",
       "2                    0        0        0        0         0        0        0  \n",
       "3                    0        0        0        0         0        0        0  \n",
       "4                    0        0        0       24         0        0        0  \n",
       "5                    0        0        0        0         0        0        0  "
      ]
     },
     "execution_count": 5,
     "metadata": {},
     "output_type": "execute_result"
    }
   ],
   "source": [
    "incapacidades.head()\n",
    "# En este punto se registran los id's de los empleados y las horas de incapacidad por mes"
   ]
  },
  {
   "cell_type": "code",
   "execution_count": 6,
   "metadata": {},
   "outputs": [
    {
     "data": {
      "text/html": [
       "<div>\n",
       "<style scoped>\n",
       "    .dataframe tbody tr th:only-of-type {\n",
       "        vertical-align: middle;\n",
       "    }\n",
       "\n",
       "    .dataframe tbody tr th {\n",
       "        vertical-align: top;\n",
       "    }\n",
       "\n",
       "    .dataframe thead th {\n",
       "        text-align: right;\n",
       "    }\n",
       "</style>\n",
       "<table border=\"1\" class=\"dataframe\">\n",
       "  <thead>\n",
       "    <tr style=\"text-align: right;\">\n",
       "      <th></th>\n",
       "      <th>ID_Empleado</th>\n",
       "      <th>Unidades</th>\n",
       "      <th>Ene-17</th>\n",
       "      <th>Feb-17</th>\n",
       "      <th>Mar-17</th>\n",
       "      <th>Abri-17</th>\n",
       "      <th>May-17</th>\n",
       "      <th>Jun-17</th>\n",
       "      <th>Jul-17</th>\n",
       "      <th>Ago-17</th>\n",
       "      <th>2017-09-01 00:00:00</th>\n",
       "      <th>Oct-17</th>\n",
       "      <th>Nov-17</th>\n",
       "      <th>2017-12-01 00:00:00</th>\n",
       "      <th>Ene-18</th>\n",
       "      <th>Feb-18</th>\n",
       "      <th>Mar-18</th>\n",
       "      <th>Abri-18</th>\n",
       "      <th>May-18</th>\n",
       "      <th>Jun-18</th>\n",
       "    </tr>\n",
       "  </thead>\n",
       "  <tbody>\n",
       "    <tr>\n",
       "      <th>1</th>\n",
       "      <td>101434</td>\n",
       "      <td>horas</td>\n",
       "      <td>0.0</td>\n",
       "      <td>0.0</td>\n",
       "      <td>0.0</td>\n",
       "      <td>0.0</td>\n",
       "      <td>0.0</td>\n",
       "      <td>0.00</td>\n",
       "      <td>0.0</td>\n",
       "      <td>0.00</td>\n",
       "      <td>0.0</td>\n",
       "      <td>0.0</td>\n",
       "      <td>0.0</td>\n",
       "      <td>0.0</td>\n",
       "      <td>0.0</td>\n",
       "      <td>0.0</td>\n",
       "      <td>0.0</td>\n",
       "      <td>4.0</td>\n",
       "      <td>0.0</td>\n",
       "      <td>5.0</td>\n",
       "    </tr>\n",
       "    <tr>\n",
       "      <th>2</th>\n",
       "      <td>101463</td>\n",
       "      <td>horas</td>\n",
       "      <td>5.0</td>\n",
       "      <td>9.5</td>\n",
       "      <td>0.0</td>\n",
       "      <td>0.0</td>\n",
       "      <td>0.0</td>\n",
       "      <td>6.17</td>\n",
       "      <td>0.0</td>\n",
       "      <td>2.08</td>\n",
       "      <td>0.0</td>\n",
       "      <td>0.0</td>\n",
       "      <td>0.0</td>\n",
       "      <td>0.0</td>\n",
       "      <td>0.0</td>\n",
       "      <td>0.0</td>\n",
       "      <td>4.0</td>\n",
       "      <td>0.0</td>\n",
       "      <td>0.0</td>\n",
       "      <td>0.0</td>\n",
       "    </tr>\n",
       "    <tr>\n",
       "      <th>3</th>\n",
       "      <td>101484</td>\n",
       "      <td>horas</td>\n",
       "      <td>0.0</td>\n",
       "      <td>5.5</td>\n",
       "      <td>9.0</td>\n",
       "      <td>0.0</td>\n",
       "      <td>0.0</td>\n",
       "      <td>2.50</td>\n",
       "      <td>0.0</td>\n",
       "      <td>0.00</td>\n",
       "      <td>0.0</td>\n",
       "      <td>8.0</td>\n",
       "      <td>0.0</td>\n",
       "      <td>0.0</td>\n",
       "      <td>0.0</td>\n",
       "      <td>0.0</td>\n",
       "      <td>0.0</td>\n",
       "      <td>8.0</td>\n",
       "      <td>0.0</td>\n",
       "      <td>0.0</td>\n",
       "    </tr>\n",
       "    <tr>\n",
       "      <th>4</th>\n",
       "      <td>101675</td>\n",
       "      <td>horas</td>\n",
       "      <td>0.0</td>\n",
       "      <td>0.0</td>\n",
       "      <td>0.0</td>\n",
       "      <td>0.0</td>\n",
       "      <td>0.0</td>\n",
       "      <td>5.50</td>\n",
       "      <td>0.0</td>\n",
       "      <td>3.00</td>\n",
       "      <td>0.0</td>\n",
       "      <td>0.0</td>\n",
       "      <td>0.0</td>\n",
       "      <td>0.0</td>\n",
       "      <td>0.0</td>\n",
       "      <td>0.0</td>\n",
       "      <td>2.5</td>\n",
       "      <td>4.0</td>\n",
       "      <td>0.0</td>\n",
       "      <td>4.0</td>\n",
       "    </tr>\n",
       "    <tr>\n",
       "      <th>5</th>\n",
       "      <td>101731</td>\n",
       "      <td>horas</td>\n",
       "      <td>0.0</td>\n",
       "      <td>0.0</td>\n",
       "      <td>0.0</td>\n",
       "      <td>4.0</td>\n",
       "      <td>0.0</td>\n",
       "      <td>0.00</td>\n",
       "      <td>0.0</td>\n",
       "      <td>0.00</td>\n",
       "      <td>0.0</td>\n",
       "      <td>0.0</td>\n",
       "      <td>0.0</td>\n",
       "      <td>0.0</td>\n",
       "      <td>0.0</td>\n",
       "      <td>8.5</td>\n",
       "      <td>0.0</td>\n",
       "      <td>4.0</td>\n",
       "      <td>10.5</td>\n",
       "      <td>4.0</td>\n",
       "    </tr>\n",
       "  </tbody>\n",
       "</table>\n",
       "</div>"
      ],
      "text/plain": [
       "   ID_Empleado Unidades   Ene-17   Feb-17   Mar-17   Abri-17   May-17  \\\n",
       "1       101434    horas      0.0      0.0      0.0       0.0      0.0   \n",
       "2       101463    horas      5.0      9.5      0.0       0.0      0.0   \n",
       "3       101484    horas      0.0      5.5      9.0       0.0      0.0   \n",
       "4       101675    horas      0.0      0.0      0.0       0.0      0.0   \n",
       "5       101731    horas      0.0      0.0      0.0       4.0      0.0   \n",
       "\n",
       "    Jun-17   Jul-17   Ago-17  2017-09-01 00:00:00   Oct-17   Nov-17  \\\n",
       "1     0.00      0.0     0.00                  0.0      0.0      0.0   \n",
       "2     6.17      0.0     2.08                  0.0      0.0      0.0   \n",
       "3     2.50      0.0     0.00                  0.0      8.0      0.0   \n",
       "4     5.50      0.0     3.00                  0.0      0.0      0.0   \n",
       "5     0.00      0.0     0.00                  0.0      0.0      0.0   \n",
       "\n",
       "   2017-12-01 00:00:00   Ene-18   Feb-18   Mar-18   Abri-18   May-18   Jun-18  \n",
       "1                  0.0      0.0      0.0      0.0       4.0      0.0      5.0  \n",
       "2                  0.0      0.0      0.0      4.0       0.0      0.0      0.0  \n",
       "3                  0.0      0.0      0.0      0.0       8.0      0.0      0.0  \n",
       "4                  0.0      0.0      0.0      2.5       4.0      0.0      4.0  \n",
       "5                  0.0      0.0      8.5      0.0       4.0     10.5      4.0  "
      ]
     },
     "execution_count": 6,
     "metadata": {},
     "output_type": "execute_result"
    }
   ],
   "source": [
    "ausentismos.head()\n",
    "# En este punto se registran los id's de los empleados y las horas de ausentismos por mes"
   ]
  },
  {
   "cell_type": "code",
   "execution_count": 7,
   "metadata": {},
   "outputs": [
    {
     "data": {
      "text/html": [
       "<div>\n",
       "<style scoped>\n",
       "    .dataframe tbody tr th:only-of-type {\n",
       "        vertical-align: middle;\n",
       "    }\n",
       "\n",
       "    .dataframe tbody tr th {\n",
       "        vertical-align: top;\n",
       "    }\n",
       "\n",
       "    .dataframe thead th {\n",
       "        text-align: right;\n",
       "    }\n",
       "</style>\n",
       "<table border=\"1\" class=\"dataframe\">\n",
       "  <thead>\n",
       "    <tr style=\"text-align: right;\">\n",
       "      <th></th>\n",
       "      <th>ID_Empleado</th>\n",
       "      <th>Unidades</th>\n",
       "      <th>Ene-17</th>\n",
       "      <th>Feb-17</th>\n",
       "      <th>Mar-17</th>\n",
       "      <th>Abri-17</th>\n",
       "      <th>May-17</th>\n",
       "      <th>Jun-17</th>\n",
       "      <th>Jul-17</th>\n",
       "      <th>Ago-17</th>\n",
       "      <th>...</th>\n",
       "      <th>Oct-17</th>\n",
       "      <th>Nov-17</th>\n",
       "      <th>2017-12-01 00:00:00</th>\n",
       "      <th>Ene-18</th>\n",
       "      <th>Feb-18</th>\n",
       "      <th>Mar-18</th>\n",
       "      <th>Abri-18</th>\n",
       "      <th>May-18</th>\n",
       "      <th>Jun-18</th>\n",
       "      <th>total_inc</th>\n",
       "    </tr>\n",
       "  </thead>\n",
       "  <tbody>\n",
       "    <tr>\n",
       "      <th>1</th>\n",
       "      <td>101434</td>\n",
       "      <td>horas</td>\n",
       "      <td>0</td>\n",
       "      <td>0</td>\n",
       "      <td>0</td>\n",
       "      <td>0</td>\n",
       "      <td>0</td>\n",
       "      <td>0</td>\n",
       "      <td>0</td>\n",
       "      <td>0</td>\n",
       "      <td>...</td>\n",
       "      <td>0</td>\n",
       "      <td>0</td>\n",
       "      <td>0</td>\n",
       "      <td>0</td>\n",
       "      <td>0</td>\n",
       "      <td>0</td>\n",
       "      <td>0</td>\n",
       "      <td>0</td>\n",
       "      <td>24</td>\n",
       "      <td>24</td>\n",
       "    </tr>\n",
       "    <tr>\n",
       "      <th>2</th>\n",
       "      <td>101463</td>\n",
       "      <td>horas</td>\n",
       "      <td>0</td>\n",
       "      <td>0</td>\n",
       "      <td>0</td>\n",
       "      <td>0</td>\n",
       "      <td>0</td>\n",
       "      <td>0</td>\n",
       "      <td>0</td>\n",
       "      <td>0</td>\n",
       "      <td>...</td>\n",
       "      <td>0</td>\n",
       "      <td>0</td>\n",
       "      <td>0</td>\n",
       "      <td>0</td>\n",
       "      <td>0</td>\n",
       "      <td>0</td>\n",
       "      <td>0</td>\n",
       "      <td>0</td>\n",
       "      <td>0</td>\n",
       "      <td>0</td>\n",
       "    </tr>\n",
       "    <tr>\n",
       "      <th>3</th>\n",
       "      <td>101484</td>\n",
       "      <td>horas</td>\n",
       "      <td>0</td>\n",
       "      <td>0</td>\n",
       "      <td>0</td>\n",
       "      <td>0</td>\n",
       "      <td>0</td>\n",
       "      <td>0</td>\n",
       "      <td>0</td>\n",
       "      <td>0</td>\n",
       "      <td>...</td>\n",
       "      <td>0</td>\n",
       "      <td>0</td>\n",
       "      <td>0</td>\n",
       "      <td>0</td>\n",
       "      <td>0</td>\n",
       "      <td>0</td>\n",
       "      <td>0</td>\n",
       "      <td>0</td>\n",
       "      <td>0</td>\n",
       "      <td>0</td>\n",
       "    </tr>\n",
       "    <tr>\n",
       "      <th>4</th>\n",
       "      <td>101675</td>\n",
       "      <td>horas</td>\n",
       "      <td>0</td>\n",
       "      <td>0</td>\n",
       "      <td>0</td>\n",
       "      <td>0</td>\n",
       "      <td>0</td>\n",
       "      <td>0</td>\n",
       "      <td>0</td>\n",
       "      <td>0</td>\n",
       "      <td>...</td>\n",
       "      <td>0</td>\n",
       "      <td>0</td>\n",
       "      <td>0</td>\n",
       "      <td>0</td>\n",
       "      <td>0</td>\n",
       "      <td>24</td>\n",
       "      <td>0</td>\n",
       "      <td>0</td>\n",
       "      <td>0</td>\n",
       "      <td>24</td>\n",
       "    </tr>\n",
       "    <tr>\n",
       "      <th>5</th>\n",
       "      <td>101731</td>\n",
       "      <td>horas</td>\n",
       "      <td>0</td>\n",
       "      <td>0</td>\n",
       "      <td>0</td>\n",
       "      <td>0</td>\n",
       "      <td>24</td>\n",
       "      <td>0</td>\n",
       "      <td>0</td>\n",
       "      <td>0</td>\n",
       "      <td>...</td>\n",
       "      <td>0</td>\n",
       "      <td>0</td>\n",
       "      <td>0</td>\n",
       "      <td>0</td>\n",
       "      <td>0</td>\n",
       "      <td>0</td>\n",
       "      <td>0</td>\n",
       "      <td>0</td>\n",
       "      <td>0</td>\n",
       "      <td>24</td>\n",
       "    </tr>\n",
       "  </tbody>\n",
       "</table>\n",
       "<p>5 rows × 21 columns</p>\n",
       "</div>"
      ],
      "text/plain": [
       "   ID_Empleado Unidades   Ene-17   Feb-17   Mar-17   Abri-17   May-17  \\\n",
       "1       101434    horas        0        0        0         0        0   \n",
       "2       101463    horas        0        0        0         0        0   \n",
       "3       101484    horas        0        0        0         0        0   \n",
       "4       101675    horas        0        0        0         0        0   \n",
       "5       101731    horas        0        0        0         0       24   \n",
       "\n",
       "    Jun-17   Jul-17   Ago-17  ...   Oct-17   Nov-17  2017-12-01 00:00:00  \\\n",
       "1        0        0        0  ...        0        0                    0   \n",
       "2        0        0        0  ...        0        0                    0   \n",
       "3        0        0        0  ...        0        0                    0   \n",
       "4        0        0        0  ...        0        0                    0   \n",
       "5        0        0        0  ...        0        0                    0   \n",
       "\n",
       "    Ene-18   Feb-18   Mar-18   Abri-18   May-18   Jun-18  total_inc  \n",
       "1        0        0        0         0        0       24         24  \n",
       "2        0        0        0         0        0        0          0  \n",
       "3        0        0        0         0        0        0          0  \n",
       "4        0        0       24         0        0        0         24  \n",
       "5        0        0        0         0        0        0         24  \n",
       "\n",
       "[5 rows x 21 columns]"
      ]
     },
     "execution_count": 7,
     "metadata": {},
     "output_type": "execute_result"
    }
   ],
   "source": [
    "# Se crea una nueva columna 'total_inc' la cual sera la suma de las horas por mes de incapacidades\n",
    "incapacidades['total_inc']= incapacidades.iloc[:, 2:20].sum(axis=1)\n",
    "incapacidades.head()"
   ]
  },
  {
   "cell_type": "code",
   "execution_count": 8,
   "metadata": {},
   "outputs": [
    {
     "data": {
      "text/html": [
       "<div>\n",
       "<style scoped>\n",
       "    .dataframe tbody tr th:only-of-type {\n",
       "        vertical-align: middle;\n",
       "    }\n",
       "\n",
       "    .dataframe tbody tr th {\n",
       "        vertical-align: top;\n",
       "    }\n",
       "\n",
       "    .dataframe thead th {\n",
       "        text-align: right;\n",
       "    }\n",
       "</style>\n",
       "<table border=\"1\" class=\"dataframe\">\n",
       "  <thead>\n",
       "    <tr style=\"text-align: right;\">\n",
       "      <th></th>\n",
       "      <th>ID_Empleado</th>\n",
       "      <th>Unidades</th>\n",
       "      <th>Ene-17</th>\n",
       "      <th>Feb-17</th>\n",
       "      <th>Mar-17</th>\n",
       "      <th>Abri-17</th>\n",
       "      <th>May-17</th>\n",
       "      <th>Jun-17</th>\n",
       "      <th>Jul-17</th>\n",
       "      <th>Ago-17</th>\n",
       "      <th>...</th>\n",
       "      <th>Oct-17</th>\n",
       "      <th>Nov-17</th>\n",
       "      <th>2017-12-01 00:00:00</th>\n",
       "      <th>Ene-18</th>\n",
       "      <th>Feb-18</th>\n",
       "      <th>Mar-18</th>\n",
       "      <th>Abri-18</th>\n",
       "      <th>May-18</th>\n",
       "      <th>Jun-18</th>\n",
       "      <th>total_aus</th>\n",
       "    </tr>\n",
       "  </thead>\n",
       "  <tbody>\n",
       "    <tr>\n",
       "      <th>1</th>\n",
       "      <td>101434</td>\n",
       "      <td>horas</td>\n",
       "      <td>0.0</td>\n",
       "      <td>0.0</td>\n",
       "      <td>0.0</td>\n",
       "      <td>0.0</td>\n",
       "      <td>0.0</td>\n",
       "      <td>0.00</td>\n",
       "      <td>0.0</td>\n",
       "      <td>0.00</td>\n",
       "      <td>...</td>\n",
       "      <td>0.0</td>\n",
       "      <td>0.0</td>\n",
       "      <td>0.0</td>\n",
       "      <td>0.0</td>\n",
       "      <td>0.0</td>\n",
       "      <td>0.0</td>\n",
       "      <td>4.0</td>\n",
       "      <td>0.0</td>\n",
       "      <td>5.0</td>\n",
       "      <td>9.00</td>\n",
       "    </tr>\n",
       "    <tr>\n",
       "      <th>2</th>\n",
       "      <td>101463</td>\n",
       "      <td>horas</td>\n",
       "      <td>5.0</td>\n",
       "      <td>9.5</td>\n",
       "      <td>0.0</td>\n",
       "      <td>0.0</td>\n",
       "      <td>0.0</td>\n",
       "      <td>6.17</td>\n",
       "      <td>0.0</td>\n",
       "      <td>2.08</td>\n",
       "      <td>...</td>\n",
       "      <td>0.0</td>\n",
       "      <td>0.0</td>\n",
       "      <td>0.0</td>\n",
       "      <td>0.0</td>\n",
       "      <td>0.0</td>\n",
       "      <td>4.0</td>\n",
       "      <td>0.0</td>\n",
       "      <td>0.0</td>\n",
       "      <td>0.0</td>\n",
       "      <td>26.75</td>\n",
       "    </tr>\n",
       "    <tr>\n",
       "      <th>3</th>\n",
       "      <td>101484</td>\n",
       "      <td>horas</td>\n",
       "      <td>0.0</td>\n",
       "      <td>5.5</td>\n",
       "      <td>9.0</td>\n",
       "      <td>0.0</td>\n",
       "      <td>0.0</td>\n",
       "      <td>2.50</td>\n",
       "      <td>0.0</td>\n",
       "      <td>0.00</td>\n",
       "      <td>...</td>\n",
       "      <td>8.0</td>\n",
       "      <td>0.0</td>\n",
       "      <td>0.0</td>\n",
       "      <td>0.0</td>\n",
       "      <td>0.0</td>\n",
       "      <td>0.0</td>\n",
       "      <td>8.0</td>\n",
       "      <td>0.0</td>\n",
       "      <td>0.0</td>\n",
       "      <td>33.00</td>\n",
       "    </tr>\n",
       "    <tr>\n",
       "      <th>4</th>\n",
       "      <td>101675</td>\n",
       "      <td>horas</td>\n",
       "      <td>0.0</td>\n",
       "      <td>0.0</td>\n",
       "      <td>0.0</td>\n",
       "      <td>0.0</td>\n",
       "      <td>0.0</td>\n",
       "      <td>5.50</td>\n",
       "      <td>0.0</td>\n",
       "      <td>3.00</td>\n",
       "      <td>...</td>\n",
       "      <td>0.0</td>\n",
       "      <td>0.0</td>\n",
       "      <td>0.0</td>\n",
       "      <td>0.0</td>\n",
       "      <td>0.0</td>\n",
       "      <td>2.5</td>\n",
       "      <td>4.0</td>\n",
       "      <td>0.0</td>\n",
       "      <td>4.0</td>\n",
       "      <td>19.00</td>\n",
       "    </tr>\n",
       "    <tr>\n",
       "      <th>5</th>\n",
       "      <td>101731</td>\n",
       "      <td>horas</td>\n",
       "      <td>0.0</td>\n",
       "      <td>0.0</td>\n",
       "      <td>0.0</td>\n",
       "      <td>4.0</td>\n",
       "      <td>0.0</td>\n",
       "      <td>0.00</td>\n",
       "      <td>0.0</td>\n",
       "      <td>0.00</td>\n",
       "      <td>...</td>\n",
       "      <td>0.0</td>\n",
       "      <td>0.0</td>\n",
       "      <td>0.0</td>\n",
       "      <td>0.0</td>\n",
       "      <td>8.5</td>\n",
       "      <td>0.0</td>\n",
       "      <td>4.0</td>\n",
       "      <td>10.5</td>\n",
       "      <td>4.0</td>\n",
       "      <td>31.00</td>\n",
       "    </tr>\n",
       "  </tbody>\n",
       "</table>\n",
       "<p>5 rows × 21 columns</p>\n",
       "</div>"
      ],
      "text/plain": [
       "   ID_Empleado Unidades   Ene-17   Feb-17   Mar-17   Abri-17   May-17  \\\n",
       "1       101434    horas      0.0      0.0      0.0       0.0      0.0   \n",
       "2       101463    horas      5.0      9.5      0.0       0.0      0.0   \n",
       "3       101484    horas      0.0      5.5      9.0       0.0      0.0   \n",
       "4       101675    horas      0.0      0.0      0.0       0.0      0.0   \n",
       "5       101731    horas      0.0      0.0      0.0       4.0      0.0   \n",
       "\n",
       "    Jun-17   Jul-17   Ago-17  ...   Oct-17   Nov-17  2017-12-01 00:00:00  \\\n",
       "1     0.00      0.0     0.00  ...      0.0      0.0                  0.0   \n",
       "2     6.17      0.0     2.08  ...      0.0      0.0                  0.0   \n",
       "3     2.50      0.0     0.00  ...      8.0      0.0                  0.0   \n",
       "4     5.50      0.0     3.00  ...      0.0      0.0                  0.0   \n",
       "5     0.00      0.0     0.00  ...      0.0      0.0                  0.0   \n",
       "\n",
       "    Ene-18   Feb-18   Mar-18   Abri-18   May-18   Jun-18  total_aus  \n",
       "1      0.0      0.0      0.0       4.0      0.0      5.0       9.00  \n",
       "2      0.0      0.0      4.0       0.0      0.0      0.0      26.75  \n",
       "3      0.0      0.0      0.0       8.0      0.0      0.0      33.00  \n",
       "4      0.0      0.0      2.5       4.0      0.0      4.0      19.00  \n",
       "5      0.0      8.5      0.0       4.0     10.5      4.0      31.00  \n",
       "\n",
       "[5 rows x 21 columns]"
      ]
     },
     "execution_count": 8,
     "metadata": {},
     "output_type": "execute_result"
    }
   ],
   "source": [
    "# Se crea una nueva columna 'total_aus' la cual sera la suma de las horas por mes de ausentismos\n",
    "ausentismos['total_aus']= ausentismos.iloc[:, 2:20].sum(axis=1)\n",
    "ausentismos.head()"
   ]
  },
  {
   "cell_type": "markdown",
   "metadata": {},
   "source": [
    "La unica informacion relevante es el id y el numero total de horas ausentes o incapacitados. De manera que las demas columnas son descartadas"
   ]
  },
  {
   "cell_type": "code",
   "execution_count": 9,
   "metadata": {},
   "outputs": [],
   "source": [
    "# se definen las columnas a descartar\n",
    "columnas1 = incapacidades.iloc[:,1:20]\n",
    "columnas2 = ausentismos.iloc[:,1:20]\n",
    "# se descartan dichas columnas en cada dataframe\n",
    "incapacidades.drop(columnas1, axis = 1, inplace = True)\n",
    "ausentismos.drop(columnas2, axis = 1, inplace = True)"
   ]
  },
  {
   "cell_type": "markdown",
   "metadata": {},
   "source": [
    "Los dataframes estan listos para ser unidos."
   ]
  },
  {
   "cell_type": "code",
   "execution_count": 14,
   "metadata": {},
   "outputs": [],
   "source": [
    "# se unen los DF usando la columna 'ID_Empleado' como key\n",
    "no_work = pd.merge(incapacidades, ausentismos)\n",
    "# se define una nueva columna 'total_hours' como el total de horas no trabajadas (total_inc + total_aus)\n",
    "no_work['total_hours'] = no_work['total_inc'] + no_work['total_aus'] \n",
    "# se descartan las columnas ya usadas y no relevantes\n",
    "no_work.drop(['total_inc','total_aus'], axis=1, inplace=True )\n",
    "# se renombra la columna 'ID_Empleado' por 'ID colaborador' para que haya consistencia con las demas bases\n",
    "no_work.rename(columns = {'ID_Empleado':'ID colaborador', 'total_hours':'horas_no_trabajadas'}, inplace=True)"
   ]
  },
  {
   "cell_type": "code",
   "execution_count": 15,
   "metadata": {},
   "outputs": [
    {
     "data": {
      "text/html": [
       "<div>\n",
       "<style scoped>\n",
       "    .dataframe tbody tr th:only-of-type {\n",
       "        vertical-align: middle;\n",
       "    }\n",
       "\n",
       "    .dataframe tbody tr th {\n",
       "        vertical-align: top;\n",
       "    }\n",
       "\n",
       "    .dataframe thead th {\n",
       "        text-align: right;\n",
       "    }\n",
       "</style>\n",
       "<table border=\"1\" class=\"dataframe\">\n",
       "  <thead>\n",
       "    <tr style=\"text-align: right;\">\n",
       "      <th></th>\n",
       "      <th>ID colaborador</th>\n",
       "      <th>horas_no_trabajadas</th>\n",
       "    </tr>\n",
       "  </thead>\n",
       "  <tbody>\n",
       "    <tr>\n",
       "      <th>0</th>\n",
       "      <td>101434</td>\n",
       "      <td>33.00</td>\n",
       "    </tr>\n",
       "    <tr>\n",
       "      <th>1</th>\n",
       "      <td>101463</td>\n",
       "      <td>26.75</td>\n",
       "    </tr>\n",
       "    <tr>\n",
       "      <th>2</th>\n",
       "      <td>101484</td>\n",
       "      <td>33.00</td>\n",
       "    </tr>\n",
       "    <tr>\n",
       "      <th>3</th>\n",
       "      <td>101675</td>\n",
       "      <td>43.00</td>\n",
       "    </tr>\n",
       "    <tr>\n",
       "      <th>4</th>\n",
       "      <td>101731</td>\n",
       "      <td>55.00</td>\n",
       "    </tr>\n",
       "  </tbody>\n",
       "</table>\n",
       "</div>"
      ],
      "text/plain": [
       "   ID colaborador  horas_no_trabajadas\n",
       "0          101434                33.00\n",
       "1          101463                26.75\n",
       "2          101484                33.00\n",
       "3          101675                43.00\n",
       "4          101731                55.00"
      ]
     },
     "execution_count": 15,
     "metadata": {},
     "output_type": "execute_result"
    }
   ],
   "source": [
    "#el resultado es un df con el id del colaborador y el total de horas no trabajadas en el periodo de tiempo\n",
    "#contemplado\n",
    "no_work.head()"
   ]
  },
  {
   "cell_type": "markdown",
   "metadata": {},
   "source": [
    "## Trabajando con `Codigo_Cargo.txt`\n"
   ]
  },
  {
   "cell_type": "markdown",
   "metadata": {},
   "source": [
    "Mas alla de ser una archivo de texto plano con una base de datos, no hay mayor complicacion en este archivo. El dataframe resultante es una tabla con la descripcion del trabajo y el codigo de cargo usado en la empresa del ejercicio."
   ]
  },
  {
   "cell_type": "code",
   "execution_count": 18,
   "metadata": {},
   "outputs": [],
   "source": [
    "codigo = pd.read_table('Codigo_Cargo.txt', header = 0, skiprows = [1,2], skipfooter =2, engine = 'python')"
   ]
  },
  {
   "cell_type": "code",
   "execution_count": 30,
   "metadata": {},
   "outputs": [
    {
     "data": {
      "text/html": [
       "<div>\n",
       "<style scoped>\n",
       "    .dataframe tbody tr th:only-of-type {\n",
       "        vertical-align: middle;\n",
       "    }\n",
       "\n",
       "    .dataframe tbody tr th {\n",
       "        vertical-align: top;\n",
       "    }\n",
       "\n",
       "    .dataframe thead th {\n",
       "        text-align: right;\n",
       "    }\n",
       "</style>\n",
       "<table border=\"1\" class=\"dataframe\">\n",
       "  <thead>\n",
       "    <tr style=\"text-align: right;\">\n",
       "      <th></th>\n",
       "      <th>Descripcion</th>\n",
       "      <th>Codigo_Cargo</th>\n",
       "    </tr>\n",
       "  </thead>\n",
       "  <tbody>\n",
       "    <tr>\n",
       "      <th>0</th>\n",
       "      <td>ANALISTA 1</td>\n",
       "      <td>4L1311</td>\n",
       "    </tr>\n",
       "    <tr>\n",
       "      <th>1</th>\n",
       "      <td>ANALISTA 2</td>\n",
       "      <td>4L1481</td>\n",
       "    </tr>\n",
       "    <tr>\n",
       "      <th>2</th>\n",
       "      <td>ANALISTA 3</td>\n",
       "      <td>4L1081</td>\n",
       "    </tr>\n",
       "    <tr>\n",
       "      <th>3</th>\n",
       "      <td>ANALISTA 3</td>\n",
       "      <td>4L1082</td>\n",
       "    </tr>\n",
       "    <tr>\n",
       "      <th>4</th>\n",
       "      <td>ANALISTA 3</td>\n",
       "      <td>4L1083</td>\n",
       "    </tr>\n",
       "  </tbody>\n",
       "</table>\n",
       "</div>"
      ],
      "text/plain": [
       "  Descripcion Codigo_Cargo\n",
       "0  ANALISTA 1       4L1311\n",
       "1  ANALISTA 2       4L1481\n",
       "2  ANALISTA 3       4L1081\n",
       "3  ANALISTA 3       4L1082\n",
       "4  ANALISTA 3       4L1083"
      ]
     },
     "execution_count": 30,
     "metadata": {},
     "output_type": "execute_result"
    }
   ],
   "source": [
    "codigo.head()"
   ]
  },
  {
   "cell_type": "markdown",
   "metadata": {},
   "source": [
    "## Trabajando con `Colaboradores.csv`"
   ]
  },
  {
   "cell_type": "code",
   "execution_count": 20,
   "metadata": {},
   "outputs": [],
   "source": [
    "colaboradores = pd.read_csv('Colaboradores.csv', encoding = 'latin1', header = 3, sep = ';')"
   ]
  },
  {
   "cell_type": "code",
   "execution_count": 21,
   "metadata": {},
   "outputs": [
    {
     "data": {
      "text/html": [
       "<div>\n",
       "<style scoped>\n",
       "    .dataframe tbody tr th:only-of-type {\n",
       "        vertical-align: middle;\n",
       "    }\n",
       "\n",
       "    .dataframe tbody tr th {\n",
       "        vertical-align: top;\n",
       "    }\n",
       "\n",
       "    .dataframe thead th {\n",
       "        text-align: right;\n",
       "    }\n",
       "</style>\n",
       "<table border=\"1\" class=\"dataframe\">\n",
       "  <thead>\n",
       "    <tr style=\"text-align: right;\">\n",
       "      <th></th>\n",
       "      <th>ID colaborador</th>\n",
       "      <th>Código del cargo</th>\n",
       "      <th>Area</th>\n",
       "      <th>Fecha_Informacion</th>\n",
       "    </tr>\n",
       "  </thead>\n",
       "  <tbody>\n",
       "    <tr>\n",
       "      <th>7559</th>\n",
       "      <td>100896.0</td>\n",
       "      <td>4K1531</td>\n",
       "      <td>DIAGNÓSTICA - 30402002  / CALLE 26</td>\n",
       "      <td>jul-18</td>\n",
       "    </tr>\n",
       "    <tr>\n",
       "      <th>7560</th>\n",
       "      <td>100896.0</td>\n",
       "      <td>4K1531</td>\n",
       "      <td>DIAGNÓSTICA - 30402002  / CALLE 26</td>\n",
       "      <td>jun-18</td>\n",
       "    </tr>\n",
       "    <tr>\n",
       "      <th>7561</th>\n",
       "      <td>100896.0</td>\n",
       "      <td>4K1531</td>\n",
       "      <td>DIAGNÓSTICA - 30402002  / CALLE 26</td>\n",
       "      <td>ago-18</td>\n",
       "    </tr>\n",
       "    <tr>\n",
       "      <th>7562</th>\n",
       "      <td>NaN</td>\n",
       "      <td>NaN</td>\n",
       "      <td>NaN</td>\n",
       "      <td>NaN</td>\n",
       "    </tr>\n",
       "    <tr>\n",
       "      <th>7563</th>\n",
       "      <td>NaN</td>\n",
       "      <td>NaN</td>\n",
       "      <td>NaN</td>\n",
       "      <td>NaN</td>\n",
       "    </tr>\n",
       "  </tbody>\n",
       "</table>\n",
       "</div>"
      ],
      "text/plain": [
       "      ID colaborador Código del cargo                                Area  \\\n",
       "7559        100896.0           4K1531  DIAGNÓSTICA - 30402002  / CALLE 26   \n",
       "7560        100896.0           4K1531  DIAGNÓSTICA - 30402002  / CALLE 26   \n",
       "7561        100896.0           4K1531  DIAGNÓSTICA - 30402002  / CALLE 26   \n",
       "7562             NaN              NaN                                 NaN   \n",
       "7563             NaN              NaN                                 NaN   \n",
       "\n",
       "     Fecha_Informacion  \n",
       "7559            jul-18  \n",
       "7560            jun-18  \n",
       "7561            ago-18  \n",
       "7562               NaN  \n",
       "7563               NaN  "
      ]
     },
     "execution_count": 21,
     "metadata": {},
     "output_type": "execute_result"
    }
   ],
   "source": [
    "colaboradores.tail()\n",
    "#existen valores NaN en el dataframe, el siguiente paso es remover dichas filas. "
   ]
  },
  {
   "cell_type": "code",
   "execution_count": 22,
   "metadata": {},
   "outputs": [],
   "source": [
    "# se eliminan los valores NaN\n",
    "colaboradores.dropna(inplace=True)"
   ]
  },
  {
   "cell_type": "code",
   "execution_count": 23,
   "metadata": {},
   "outputs": [],
   "source": [
    "colaboradores['ID colaborador'] = colaboradores['ID colaborador'].astype('int32') \n",
    "# cambiar el dtyte de Id Colaborador  a INT para consistencia con las demas bases "
   ]
  },
  {
   "cell_type": "code",
   "execution_count": 24,
   "metadata": {},
   "outputs": [
    {
     "data": {
      "text/html": [
       "<div>\n",
       "<style scoped>\n",
       "    .dataframe tbody tr th:only-of-type {\n",
       "        vertical-align: middle;\n",
       "    }\n",
       "\n",
       "    .dataframe tbody tr th {\n",
       "        vertical-align: top;\n",
       "    }\n",
       "\n",
       "    .dataframe thead th {\n",
       "        text-align: right;\n",
       "    }\n",
       "</style>\n",
       "<table border=\"1\" class=\"dataframe\">\n",
       "  <thead>\n",
       "    <tr style=\"text-align: right;\">\n",
       "      <th></th>\n",
       "      <th>ID colaborador</th>\n",
       "      <th>Código del cargo</th>\n",
       "      <th>Area</th>\n",
       "      <th>Fecha_Informacion</th>\n",
       "    </tr>\n",
       "  </thead>\n",
       "  <tbody>\n",
       "    <tr>\n",
       "      <th>7557</th>\n",
       "      <td>100797</td>\n",
       "      <td>4K1531</td>\n",
       "      <td>DIAGNÓSTICA - 30402002  / CALLE 42</td>\n",
       "      <td>jun-18</td>\n",
       "    </tr>\n",
       "    <tr>\n",
       "      <th>7558</th>\n",
       "      <td>100797</td>\n",
       "      <td>4K1531</td>\n",
       "      <td>DIAGNÓSTICA - 30402002  / CALLE 42</td>\n",
       "      <td>ago-18</td>\n",
       "    </tr>\n",
       "    <tr>\n",
       "      <th>7559</th>\n",
       "      <td>100896</td>\n",
       "      <td>4K1531</td>\n",
       "      <td>DIAGNÓSTICA - 30402002  / CALLE 26</td>\n",
       "      <td>jul-18</td>\n",
       "    </tr>\n",
       "    <tr>\n",
       "      <th>7560</th>\n",
       "      <td>100896</td>\n",
       "      <td>4K1531</td>\n",
       "      <td>DIAGNÓSTICA - 30402002  / CALLE 26</td>\n",
       "      <td>jun-18</td>\n",
       "    </tr>\n",
       "    <tr>\n",
       "      <th>7561</th>\n",
       "      <td>100896</td>\n",
       "      <td>4K1531</td>\n",
       "      <td>DIAGNÓSTICA - 30402002  / CALLE 26</td>\n",
       "      <td>ago-18</td>\n",
       "    </tr>\n",
       "  </tbody>\n",
       "</table>\n",
       "</div>"
      ],
      "text/plain": [
       "      ID colaborador Código del cargo                                Area  \\\n",
       "7557          100797           4K1531  DIAGNÓSTICA - 30402002  / CALLE 42   \n",
       "7558          100797           4K1531  DIAGNÓSTICA - 30402002  / CALLE 42   \n",
       "7559          100896           4K1531  DIAGNÓSTICA - 30402002  / CALLE 26   \n",
       "7560          100896           4K1531  DIAGNÓSTICA - 30402002  / CALLE 26   \n",
       "7561          100896           4K1531  DIAGNÓSTICA - 30402002  / CALLE 26   \n",
       "\n",
       "     Fecha_Informacion  \n",
       "7557            jun-18  \n",
       "7558            ago-18  \n",
       "7559            jul-18  \n",
       "7560            jun-18  \n",
       "7561            ago-18  "
      ]
     },
     "execution_count": 24,
     "metadata": {},
     "output_type": "execute_result"
    }
   ],
   "source": [
    "# el resultado\n",
    "colaboradores.tail()"
   ]
  },
  {
   "cell_type": "code",
   "execution_count": 26,
   "metadata": {},
   "outputs": [
    {
     "data": {
      "text/html": [
       "<div>\n",
       "<style scoped>\n",
       "    .dataframe tbody tr th:only-of-type {\n",
       "        vertical-align: middle;\n",
       "    }\n",
       "\n",
       "    .dataframe tbody tr th {\n",
       "        vertical-align: top;\n",
       "    }\n",
       "\n",
       "    .dataframe thead th {\n",
       "        text-align: right;\n",
       "    }\n",
       "</style>\n",
       "<table border=\"1\" class=\"dataframe\">\n",
       "  <thead>\n",
       "    <tr style=\"text-align: right;\">\n",
       "      <th></th>\n",
       "      <th>ID colaborador</th>\n",
       "      <th>Código del cargo</th>\n",
       "      <th>Area</th>\n",
       "      <th>Fecha_Informacion</th>\n",
       "    </tr>\n",
       "  </thead>\n",
       "  <tbody>\n",
       "    <tr>\n",
       "      <th>7559</th>\n",
       "      <td>100896</td>\n",
       "      <td>4K1531</td>\n",
       "      <td>DIAGNÓSTICA - 30402002  / CALLE 26</td>\n",
       "      <td>jul-18</td>\n",
       "    </tr>\n",
       "    <tr>\n",
       "      <th>7560</th>\n",
       "      <td>100896</td>\n",
       "      <td>4K1531</td>\n",
       "      <td>DIAGNÓSTICA - 30402002  / CALLE 26</td>\n",
       "      <td>jun-18</td>\n",
       "    </tr>\n",
       "    <tr>\n",
       "      <th>7561</th>\n",
       "      <td>100896</td>\n",
       "      <td>4K1531</td>\n",
       "      <td>DIAGNÓSTICA - 30402002  / CALLE 26</td>\n",
       "      <td>ago-18</td>\n",
       "    </tr>\n",
       "  </tbody>\n",
       "</table>\n",
       "</div>"
      ],
      "text/plain": [
       "      ID colaborador Código del cargo                                Area  \\\n",
       "7559          100896           4K1531  DIAGNÓSTICA - 30402002  / CALLE 26   \n",
       "7560          100896           4K1531  DIAGNÓSTICA - 30402002  / CALLE 26   \n",
       "7561          100896           4K1531  DIAGNÓSTICA - 30402002  / CALLE 26   \n",
       "\n",
       "     Fecha_Informacion  \n",
       "7559            jul-18  \n",
       "7560            jun-18  \n",
       "7561            ago-18  "
      ]
     },
     "execution_count": 26,
     "metadata": {},
     "output_type": "execute_result"
    }
   ],
   "source": [
    "# existen multiples registros por ID \n",
    "colaboradores[colaboradores['ID colaborador'] == 100896] "
   ]
  },
  {
   "cell_type": "code",
   "execution_count": 27,
   "metadata": {},
   "outputs": [],
   "source": [
    "# Se agrupa el df por ID y se toma la primera fila de cada agrupacion\n",
    "c1 = colaboradores.groupby('ID colaborador', as_index = False).first()\n",
    "# Se renombra 'Código del cargo' por 'Codigo_Cargo' para consistencia con las demas bases\n",
    "c1.rename(columns ={'Código del cargo':'Codigo_Cargo'}, inplace=True)"
   ]
  },
  {
   "cell_type": "code",
   "execution_count": 29,
   "metadata": {},
   "outputs": [
    {
     "data": {
      "text/html": [
       "<div>\n",
       "<style scoped>\n",
       "    .dataframe tbody tr th:only-of-type {\n",
       "        vertical-align: middle;\n",
       "    }\n",
       "\n",
       "    .dataframe tbody tr th {\n",
       "        vertical-align: top;\n",
       "    }\n",
       "\n",
       "    .dataframe thead th {\n",
       "        text-align: right;\n",
       "    }\n",
       "</style>\n",
       "<table border=\"1\" class=\"dataframe\">\n",
       "  <thead>\n",
       "    <tr style=\"text-align: right;\">\n",
       "      <th></th>\n",
       "      <th>ID colaborador</th>\n",
       "      <th>Codigo_Cargo</th>\n",
       "      <th>Area</th>\n",
       "      <th>Fecha_Informacion</th>\n",
       "    </tr>\n",
       "  </thead>\n",
       "  <tbody>\n",
       "    <tr>\n",
       "      <th>0</th>\n",
       "      <td>100000</td>\n",
       "      <td>5D1291</td>\n",
       "      <td>ADMINISTRACIÓN LABORATORIO CLÍNICO - 30401080 ...</td>\n",
       "      <td>jul-18</td>\n",
       "    </tr>\n",
       "    <tr>\n",
       "      <th>1</th>\n",
       "      <td>100001</td>\n",
       "      <td>5C1181</td>\n",
       "      <td>AUTOSERVICIO - 20603002  / CENTRO DE ENTRETENI...</td>\n",
       "      <td>jul-18</td>\n",
       "    </tr>\n",
       "    <tr>\n",
       "      <th>2</th>\n",
       "      <td>100002</td>\n",
       "      <td>5E1341</td>\n",
       "      <td>ESCENARIO SALONES DEPORTIVOS- 21820  / CHIA</td>\n",
       "      <td>jul-18</td>\n",
       "    </tr>\n",
       "    <tr>\n",
       "      <th>3</th>\n",
       "      <td>100003</td>\n",
       "      <td>5D1291</td>\n",
       "      <td>PROCESAMIENTO LABORATORIO-30401095  / AUTOPIST...</td>\n",
       "      <td>jul-18</td>\n",
       "    </tr>\n",
       "    <tr>\n",
       "      <th>4</th>\n",
       "      <td>100004</td>\n",
       "      <td>5E1181</td>\n",
       "      <td>GIRARDOT / GIRARDOT</td>\n",
       "      <td>jul-18</td>\n",
       "    </tr>\n",
       "  </tbody>\n",
       "</table>\n",
       "</div>"
      ],
      "text/plain": [
       "   ID colaborador Codigo_Cargo  \\\n",
       "0          100000       5D1291   \n",
       "1          100001       5C1181   \n",
       "2          100002       5E1341   \n",
       "3          100003       5D1291   \n",
       "4          100004       5E1181   \n",
       "\n",
       "                                                Area Fecha_Informacion  \n",
       "0  ADMINISTRACIÓN LABORATORIO CLÍNICO - 30401080 ...            jul-18  \n",
       "1  AUTOSERVICIO - 20603002  / CENTRO DE ENTRETENI...            jul-18  \n",
       "2        ESCENARIO SALONES DEPORTIVOS- 21820  / CHIA            jul-18  \n",
       "3  PROCESAMIENTO LABORATORIO-30401095  / AUTOPIST...            jul-18  \n",
       "4                                GIRARDOT / GIRARDOT            jul-18  "
      ]
     },
     "execution_count": 29,
     "metadata": {},
     "output_type": "execute_result"
    }
   ],
   "source": [
    "#El resultado es una tabla que relaciona el ID del colaborador con su codigo de cargo. La demas informacion n\n",
    "o es\n",
    "#relevante para el estudio.\n",
    "c1.head()"
   ]
  },
  {
   "cell_type": "markdown",
   "metadata": {},
   "source": [
    "## Trabajando con `Horas_contratadas.csv`   \n",
    "En esta parte del ejercicio se unifican los 2 archivos que tienen informacion relacionada con las horas totales contratadas, de tal forma que al final obtendremos el numero total de horas trabajadas asignadas a cada trabajador de la empresa. Cabe resaltar que los periodos de tiempo contemplados en estas dos bases de datos son diferentes a los periodos de tiempo que son contemplados en las horas no trabajadas. Esto es una falencia del ejercicio en la medida que la comparacion de horas contratadas y horas no trabajadas no comparten los periodos de tiempo. Una opcion es reducir el analisis a los meses contemplados en las bases de datos de horas no trabajas a los mismos meses que se contemplan en horas contratadas. No entrare en ese detalle, ya que los mismos meses contemplados en las horas contratas son dispares para cada trabajador, dificultando aun mas el analisis de tiempos. **Este es un llamado de atencion a quien planteo el ejercicio.**"
   ]
  },
  {
   "cell_type": "code",
   "execution_count": 31,
   "metadata": {},
   "outputs": [],
   "source": [
    "horas1 = pd.read_csv('Horas_Contratadas1.csv', encoding='latin1', sep=';')"
   ]
  },
  {
   "cell_type": "code",
   "execution_count": 32,
   "metadata": {},
   "outputs": [
    {
     "data": {
      "text/html": [
       "<div>\n",
       "<style scoped>\n",
       "    .dataframe tbody tr th:only-of-type {\n",
       "        vertical-align: middle;\n",
       "    }\n",
       "\n",
       "    .dataframe tbody tr th {\n",
       "        vertical-align: top;\n",
       "    }\n",
       "\n",
       "    .dataframe thead th {\n",
       "        text-align: right;\n",
       "    }\n",
       "</style>\n",
       "<table border=\"1\" class=\"dataframe\">\n",
       "  <thead>\n",
       "    <tr style=\"text-align: right;\">\n",
       "      <th></th>\n",
       "      <th>ID Colaborador</th>\n",
       "      <th>Año</th>\n",
       "      <th>Mes</th>\n",
       "      <th>Numero_Horas</th>\n",
       "    </tr>\n",
       "  </thead>\n",
       "  <tbody>\n",
       "    <tr>\n",
       "      <th>0</th>\n",
       "      <td>100009</td>\n",
       "      <td>2018</td>\n",
       "      <td>8</td>\n",
       "      <td>192</td>\n",
       "    </tr>\n",
       "    <tr>\n",
       "      <th>1</th>\n",
       "      <td>100011</td>\n",
       "      <td>2018</td>\n",
       "      <td>8</td>\n",
       "      <td>192</td>\n",
       "    </tr>\n",
       "    <tr>\n",
       "      <th>2</th>\n",
       "      <td>100015</td>\n",
       "      <td>2018</td>\n",
       "      <td>8</td>\n",
       "      <td>192</td>\n",
       "    </tr>\n",
       "    <tr>\n",
       "      <th>3</th>\n",
       "      <td>100034</td>\n",
       "      <td>2018</td>\n",
       "      <td>8</td>\n",
       "      <td>192</td>\n",
       "    </tr>\n",
       "    <tr>\n",
       "      <th>4</th>\n",
       "      <td>100039</td>\n",
       "      <td>2018</td>\n",
       "      <td>8</td>\n",
       "      <td>192</td>\n",
       "    </tr>\n",
       "  </tbody>\n",
       "</table>\n",
       "</div>"
      ],
      "text/plain": [
       "   ID Colaborador   Año  Mes  Numero_Horas\n",
       "0          100009  2018    8           192\n",
       "1          100011  2018    8           192\n",
       "2          100015  2018    8           192\n",
       "3          100034  2018    8           192\n",
       "4          100039  2018    8           192"
      ]
     },
     "execution_count": 32,
     "metadata": {},
     "output_type": "execute_result"
    }
   ],
   "source": [
    "horas1.head()"
   ]
  },
  {
   "cell_type": "code",
   "execution_count": 33,
   "metadata": {},
   "outputs": [
    {
     "data": {
      "text/html": [
       "<div>\n",
       "<style scoped>\n",
       "    .dataframe tbody tr th:only-of-type {\n",
       "        vertical-align: middle;\n",
       "    }\n",
       "\n",
       "    .dataframe tbody tr th {\n",
       "        vertical-align: top;\n",
       "    }\n",
       "\n",
       "    .dataframe thead th {\n",
       "        text-align: right;\n",
       "    }\n",
       "</style>\n",
       "<table border=\"1\" class=\"dataframe\">\n",
       "  <thead>\n",
       "    <tr style=\"text-align: right;\">\n",
       "      <th></th>\n",
       "      <th>ID Colaborador</th>\n",
       "      <th>Año</th>\n",
       "      <th>Mes</th>\n",
       "      <th>Numero_Horas</th>\n",
       "    </tr>\n",
       "  </thead>\n",
       "  <tbody>\n",
       "    <tr>\n",
       "      <th>1</th>\n",
       "      <td>100011</td>\n",
       "      <td>2018</td>\n",
       "      <td>8</td>\n",
       "      <td>192</td>\n",
       "    </tr>\n",
       "    <tr>\n",
       "      <th>2449</th>\n",
       "      <td>100011</td>\n",
       "      <td>2018</td>\n",
       "      <td>7</td>\n",
       "      <td>192</td>\n",
       "    </tr>\n",
       "  </tbody>\n",
       "</table>\n",
       "</div>"
      ],
      "text/plain": [
       "      ID Colaborador   Año  Mes  Numero_Horas\n",
       "1             100011  2018    8           192\n",
       "2449          100011  2018    7           192"
      ]
     },
     "execution_count": 33,
     "metadata": {},
     "output_type": "execute_result"
    }
   ],
   "source": [
    "# Existen multiples registros para cada ID\n",
    "horas1[horas1['ID Colaborador'] == 100011] "
   ]
  },
  {
   "cell_type": "code",
   "execution_count": 34,
   "metadata": {},
   "outputs": [],
   "source": [
    "horas2 = pd.read_csv('Horas_Contratadas2.csv', encoding='latin1', sep=';')"
   ]
  },
  {
   "cell_type": "code",
   "execution_count": 40,
   "metadata": {
    "scrolled": false
   },
   "outputs": [
    {
     "data": {
      "text/html": [
       "<div>\n",
       "<style scoped>\n",
       "    .dataframe tbody tr th:only-of-type {\n",
       "        vertical-align: middle;\n",
       "    }\n",
       "\n",
       "    .dataframe tbody tr th {\n",
       "        vertical-align: top;\n",
       "    }\n",
       "\n",
       "    .dataframe thead th {\n",
       "        text-align: right;\n",
       "    }\n",
       "</style>\n",
       "<table border=\"1\" class=\"dataframe\">\n",
       "  <thead>\n",
       "    <tr style=\"text-align: right;\">\n",
       "      <th></th>\n",
       "      <th>ID Colaborador</th>\n",
       "      <th>Año</th>\n",
       "      <th>Mes</th>\n",
       "      <th>Numero_Horas</th>\n",
       "    </tr>\n",
       "  </thead>\n",
       "  <tbody>\n",
       "    <tr>\n",
       "      <th>0</th>\n",
       "      <td>100009</td>\n",
       "      <td>2018</td>\n",
       "      <td>6</td>\n",
       "      <td>192</td>\n",
       "    </tr>\n",
       "    <tr>\n",
       "      <th>1</th>\n",
       "      <td>100011</td>\n",
       "      <td>2018</td>\n",
       "      <td>6</td>\n",
       "      <td>192</td>\n",
       "    </tr>\n",
       "    <tr>\n",
       "      <th>2</th>\n",
       "      <td>100015</td>\n",
       "      <td>2018</td>\n",
       "      <td>6</td>\n",
       "      <td>192</td>\n",
       "    </tr>\n",
       "    <tr>\n",
       "      <th>3</th>\n",
       "      <td>100034</td>\n",
       "      <td>2018</td>\n",
       "      <td>6</td>\n",
       "      <td>192</td>\n",
       "    </tr>\n",
       "    <tr>\n",
       "      <th>4</th>\n",
       "      <td>100039</td>\n",
       "      <td>2018</td>\n",
       "      <td>6</td>\n",
       "      <td>192</td>\n",
       "    </tr>\n",
       "  </tbody>\n",
       "</table>\n",
       "</div>"
      ],
      "text/plain": [
       "   ID Colaborador   Año  Mes  Numero_Horas\n",
       "0          100009  2018    6           192\n",
       "1          100011  2018    6           192\n",
       "2          100015  2018    6           192\n",
       "3          100034  2018    6           192\n",
       "4          100039  2018    6           192"
      ]
     },
     "execution_count": 40,
     "metadata": {},
     "output_type": "execute_result"
    }
   ],
   "source": [
    "horas2.head()"
   ]
  },
  {
   "cell_type": "code",
   "execution_count": 39,
   "metadata": {},
   "outputs": [
    {
     "data": {
      "text/html": [
       "<div>\n",
       "<style scoped>\n",
       "    .dataframe tbody tr th:only-of-type {\n",
       "        vertical-align: middle;\n",
       "    }\n",
       "\n",
       "    .dataframe tbody tr th {\n",
       "        vertical-align: top;\n",
       "    }\n",
       "\n",
       "    .dataframe thead th {\n",
       "        text-align: right;\n",
       "    }\n",
       "</style>\n",
       "<table border=\"1\" class=\"dataframe\">\n",
       "  <thead>\n",
       "    <tr style=\"text-align: right;\">\n",
       "      <th></th>\n",
       "      <th>ID Colaborador</th>\n",
       "      <th>Año</th>\n",
       "      <th>Mes</th>\n",
       "      <th>Numero_Horas</th>\n",
       "    </tr>\n",
       "  </thead>\n",
       "  <tbody>\n",
       "    <tr>\n",
       "      <th>1</th>\n",
       "      <td>100011</td>\n",
       "      <td>2018</td>\n",
       "      <td>6</td>\n",
       "      <td>192</td>\n",
       "    </tr>\n",
       "    <tr>\n",
       "      <th>2367</th>\n",
       "      <td>100011</td>\n",
       "      <td>2018</td>\n",
       "      <td>3</td>\n",
       "      <td>192</td>\n",
       "    </tr>\n",
       "  </tbody>\n",
       "</table>\n",
       "</div>"
      ],
      "text/plain": [
       "      ID Colaborador   Año  Mes  Numero_Horas\n",
       "1             100011  2018    6           192\n",
       "2367          100011  2018    3           192"
      ]
     },
     "execution_count": 39,
     "metadata": {},
     "output_type": "execute_result"
    }
   ],
   "source": [
    "# Existen multiples registros para cada ID\n",
    "horas2[horas2['ID Colaborador'] == 100011]"
   ]
  },
  {
   "cell_type": "code",
   "execution_count": 43,
   "metadata": {},
   "outputs": [],
   "source": [
    "# se unifican los dataframes horas1 y horas2\n",
    "test = pd.concat([horas1, horas2], keys=['h1', 'h2'])\n"
   ]
  },
  {
   "cell_type": "code",
   "execution_count": 44,
   "metadata": {},
   "outputs": [
    {
     "data": {
      "text/html": [
       "<div>\n",
       "<style scoped>\n",
       "    .dataframe tbody tr th:only-of-type {\n",
       "        vertical-align: middle;\n",
       "    }\n",
       "\n",
       "    .dataframe tbody tr th {\n",
       "        vertical-align: top;\n",
       "    }\n",
       "\n",
       "    .dataframe thead th {\n",
       "        text-align: right;\n",
       "    }\n",
       "</style>\n",
       "<table border=\"1\" class=\"dataframe\">\n",
       "  <thead>\n",
       "    <tr style=\"text-align: right;\">\n",
       "      <th></th>\n",
       "      <th></th>\n",
       "      <th>ID Colaborador</th>\n",
       "      <th>Año</th>\n",
       "      <th>Mes</th>\n",
       "      <th>Numero_Horas</th>\n",
       "    </tr>\n",
       "  </thead>\n",
       "  <tbody>\n",
       "    <tr>\n",
       "      <th rowspan=\"2\" valign=\"top\">h1</th>\n",
       "      <th>797</th>\n",
       "      <td>100000</td>\n",
       "      <td>2018</td>\n",
       "      <td>8</td>\n",
       "      <td>80</td>\n",
       "    </tr>\n",
       "    <tr>\n",
       "      <th>3245</th>\n",
       "      <td>100000</td>\n",
       "      <td>2018</td>\n",
       "      <td>7</td>\n",
       "      <td>80</td>\n",
       "    </tr>\n",
       "    <tr>\n",
       "      <th>h2</th>\n",
       "      <th>762</th>\n",
       "      <td>100000</td>\n",
       "      <td>2018</td>\n",
       "      <td>6</td>\n",
       "      <td>80</td>\n",
       "    </tr>\n",
       "  </tbody>\n",
       "</table>\n",
       "</div>"
      ],
      "text/plain": [
       "         ID Colaborador   Año  Mes  Numero_Horas\n",
       "h1 797           100000  2018    8            80\n",
       "   3245          100000  2018    7            80\n",
       "h2 762           100000  2018    6            80"
      ]
     },
     "execution_count": 44,
     "metadata": {},
     "output_type": "execute_result"
    }
   ],
   "source": [
    "# verificando los multiples registros por colaborador\n",
    "test[test['ID Colaborador'] == 100000] "
   ]
  },
  {
   "cell_type": "code",
   "execution_count": 45,
   "metadata": {},
   "outputs": [],
   "source": [
    "# se agrupa por colaborador\n",
    "test1 = test.groupby('ID Colaborador', as_index = False)"
   ]
  },
  {
   "cell_type": "code",
   "execution_count": 46,
   "metadata": {},
   "outputs": [],
   "source": [
    "# se suman las columnas agrupadas por ID para obtener el numero total de horas contratadas\n",
    "work_hours = test1.sum()"
   ]
  },
  {
   "cell_type": "code",
   "execution_count": 47,
   "metadata": {},
   "outputs": [],
   "source": [
    "# se elimina las columnas no relevantes\n",
    "work_hours.drop(['Año', 'Mes'], axis = 1, inplace = True)"
   ]
  },
  {
   "cell_type": "code",
   "execution_count": 48,
   "metadata": {},
   "outputs": [],
   "source": [
    "# se renombran algunas columnas para tener consistencia con las demas bases de datos\n",
    "work_hours.rename(columns = {'ID Colaborador':'ID colaborador','Numero_Horas':'horas_totales_contratadas'}, inplace=True)"
   ]
  },
  {
   "cell_type": "code",
   "execution_count": 49,
   "metadata": {},
   "outputs": [
    {
     "data": {
      "text/html": [
       "<div>\n",
       "<style scoped>\n",
       "    .dataframe tbody tr th:only-of-type {\n",
       "        vertical-align: middle;\n",
       "    }\n",
       "\n",
       "    .dataframe tbody tr th {\n",
       "        vertical-align: top;\n",
       "    }\n",
       "\n",
       "    .dataframe thead th {\n",
       "        text-align: right;\n",
       "    }\n",
       "</style>\n",
       "<table border=\"1\" class=\"dataframe\">\n",
       "  <thead>\n",
       "    <tr style=\"text-align: right;\">\n",
       "      <th></th>\n",
       "      <th>ID colaborador</th>\n",
       "      <th>horas_totales_contratadas</th>\n",
       "    </tr>\n",
       "  </thead>\n",
       "  <tbody>\n",
       "    <tr>\n",
       "      <th>0</th>\n",
       "      <td>100000</td>\n",
       "      <td>240</td>\n",
       "    </tr>\n",
       "    <tr>\n",
       "      <th>1</th>\n",
       "      <td>100001</td>\n",
       "      <td>320</td>\n",
       "    </tr>\n",
       "    <tr>\n",
       "      <th>2</th>\n",
       "      <td>100002</td>\n",
       "      <td>240</td>\n",
       "    </tr>\n",
       "    <tr>\n",
       "      <th>3</th>\n",
       "      <td>100003</td>\n",
       "      <td>240</td>\n",
       "    </tr>\n",
       "    <tr>\n",
       "      <th>4</th>\n",
       "      <td>100004</td>\n",
       "      <td>320</td>\n",
       "    </tr>\n",
       "  </tbody>\n",
       "</table>\n",
       "</div>"
      ],
      "text/plain": [
       "   ID colaborador  horas_totales_contratadas\n",
       "0          100000                        240\n",
       "1          100001                        320\n",
       "2          100002                        240\n",
       "3          100003                        240\n",
       "4          100004                        320"
      ]
     },
     "execution_count": 49,
     "metadata": {},
     "output_type": "execute_result"
    }
   ],
   "source": [
    "# el resultado\n",
    "work_hours.head()"
   ]
  },
  {
   "cell_type": "markdown",
   "metadata": {},
   "source": [
    "# Uniendo los dataframes de interes en un DF Final\n",
    "Una vez preparados los dataframes correspondientes los archivos iniciales se procede a unificarlos todos en un dataframe final."
   ]
  },
  {
   "cell_type": "code",
   "execution_count": 50,
   "metadata": {},
   "outputs": [
    {
     "data": {
      "text/html": [
       "<div>\n",
       "<style scoped>\n",
       "    .dataframe tbody tr th:only-of-type {\n",
       "        vertical-align: middle;\n",
       "    }\n",
       "\n",
       "    .dataframe tbody tr th {\n",
       "        vertical-align: top;\n",
       "    }\n",
       "\n",
       "    .dataframe thead th {\n",
       "        text-align: right;\n",
       "    }\n",
       "</style>\n",
       "<table border=\"1\" class=\"dataframe\">\n",
       "  <thead>\n",
       "    <tr style=\"text-align: right;\">\n",
       "      <th></th>\n",
       "      <th>ID colaborador</th>\n",
       "      <th>horas_no_trabajadas</th>\n",
       "    </tr>\n",
       "  </thead>\n",
       "  <tbody>\n",
       "    <tr>\n",
       "      <th>0</th>\n",
       "      <td>101434</td>\n",
       "      <td>33.00</td>\n",
       "    </tr>\n",
       "    <tr>\n",
       "      <th>1</th>\n",
       "      <td>101463</td>\n",
       "      <td>26.75</td>\n",
       "    </tr>\n",
       "    <tr>\n",
       "      <th>2</th>\n",
       "      <td>101484</td>\n",
       "      <td>33.00</td>\n",
       "    </tr>\n",
       "    <tr>\n",
       "      <th>3</th>\n",
       "      <td>101675</td>\n",
       "      <td>43.00</td>\n",
       "    </tr>\n",
       "    <tr>\n",
       "      <th>4</th>\n",
       "      <td>101731</td>\n",
       "      <td>55.00</td>\n",
       "    </tr>\n",
       "  </tbody>\n",
       "</table>\n",
       "</div>"
      ],
      "text/plain": [
       "   ID colaborador  horas_no_trabajadas\n",
       "0          101434                33.00\n",
       "1          101463                26.75\n",
       "2          101484                33.00\n",
       "3          101675                43.00\n",
       "4          101731                55.00"
      ]
     },
     "execution_count": 50,
     "metadata": {},
     "output_type": "execute_result"
    }
   ],
   "source": [
    "# Los data frames finales son work_hours , no_work, c1, codigo\n",
    "# Tamano de los dataframes\n",
    "no_work.head()"
   ]
  },
  {
   "cell_type": "code",
   "execution_count": 53,
   "metadata": {},
   "outputs": [
    {
     "data": {
      "text/html": [
       "<div>\n",
       "<style scoped>\n",
       "    .dataframe tbody tr th:only-of-type {\n",
       "        vertical-align: middle;\n",
       "    }\n",
       "\n",
       "    .dataframe tbody tr th {\n",
       "        vertical-align: top;\n",
       "    }\n",
       "\n",
       "    .dataframe thead th {\n",
       "        text-align: right;\n",
       "    }\n",
       "</style>\n",
       "<table border=\"1\" class=\"dataframe\">\n",
       "  <thead>\n",
       "    <tr style=\"text-align: right;\">\n",
       "      <th></th>\n",
       "      <th>ID colaborador</th>\n",
       "      <th>horas_totales_contratadas</th>\n",
       "    </tr>\n",
       "  </thead>\n",
       "  <tbody>\n",
       "    <tr>\n",
       "      <th>0</th>\n",
       "      <td>100000</td>\n",
       "      <td>240</td>\n",
       "    </tr>\n",
       "    <tr>\n",
       "      <th>1</th>\n",
       "      <td>100001</td>\n",
       "      <td>320</td>\n",
       "    </tr>\n",
       "    <tr>\n",
       "      <th>2</th>\n",
       "      <td>100002</td>\n",
       "      <td>240</td>\n",
       "    </tr>\n",
       "    <tr>\n",
       "      <th>3</th>\n",
       "      <td>100003</td>\n",
       "      <td>240</td>\n",
       "    </tr>\n",
       "    <tr>\n",
       "      <th>4</th>\n",
       "      <td>100004</td>\n",
       "      <td>320</td>\n",
       "    </tr>\n",
       "  </tbody>\n",
       "</table>\n",
       "</div>"
      ],
      "text/plain": [
       "   ID colaborador  horas_totales_contratadas\n",
       "0          100000                        240\n",
       "1          100001                        320\n",
       "2          100002                        240\n",
       "3          100003                        240\n",
       "4          100004                        320"
      ]
     },
     "execution_count": 53,
     "metadata": {},
     "output_type": "execute_result"
    }
   ],
   "source": [
    "work_hours.head()"
   ]
  },
  {
   "cell_type": "code",
   "execution_count": 62,
   "metadata": {},
   "outputs": [],
   "source": [
    "#unificando c1 y codigo en un dataframe temporal d1\n",
    "d1 = pd.merge (c1, codigo)"
   ]
  },
  {
   "cell_type": "code",
   "execution_count": 63,
   "metadata": {},
   "outputs": [
    {
     "data": {
      "text/html": [
       "<div>\n",
       "<style scoped>\n",
       "    .dataframe tbody tr th:only-of-type {\n",
       "        vertical-align: middle;\n",
       "    }\n",
       "\n",
       "    .dataframe tbody tr th {\n",
       "        vertical-align: top;\n",
       "    }\n",
       "\n",
       "    .dataframe thead th {\n",
       "        text-align: right;\n",
       "    }\n",
       "</style>\n",
       "<table border=\"1\" class=\"dataframe\">\n",
       "  <thead>\n",
       "    <tr style=\"text-align: right;\">\n",
       "      <th></th>\n",
       "      <th>ID colaborador</th>\n",
       "      <th>Codigo_Cargo</th>\n",
       "      <th>Area</th>\n",
       "      <th>Fecha_Informacion</th>\n",
       "      <th>Descripcion</th>\n",
       "    </tr>\n",
       "  </thead>\n",
       "  <tbody>\n",
       "    <tr>\n",
       "      <th>0</th>\n",
       "      <td>100000</td>\n",
       "      <td>5D1291</td>\n",
       "      <td>ADMINISTRACIÓN LABORATORIO CLÍNICO - 30401080 ...</td>\n",
       "      <td>jul-18</td>\n",
       "      <td>AUXILIAR 1</td>\n",
       "    </tr>\n",
       "    <tr>\n",
       "      <th>1</th>\n",
       "      <td>100003</td>\n",
       "      <td>5D1291</td>\n",
       "      <td>PROCESAMIENTO LABORATORIO-30401095  / AUTOPIST...</td>\n",
       "      <td>jul-18</td>\n",
       "      <td>AUXILIAR 1</td>\n",
       "    </tr>\n",
       "    <tr>\n",
       "      <th>2</th>\n",
       "      <td>100005</td>\n",
       "      <td>5D1291</td>\n",
       "      <td>TOMA DE MUESTRAS-30401090  / CLINICA JUAN N CO...</td>\n",
       "      <td>jul-18</td>\n",
       "      <td>AUXILIAR 1</td>\n",
       "    </tr>\n",
       "    <tr>\n",
       "      <th>3</th>\n",
       "      <td>100012</td>\n",
       "      <td>5D1291</td>\n",
       "      <td>TOMA DE MUESTRAS-30401090  / CLINICA PALERMO</td>\n",
       "      <td>jul-18</td>\n",
       "      <td>AUXILIAR 1</td>\n",
       "    </tr>\n",
       "    <tr>\n",
       "      <th>4</th>\n",
       "      <td>100022</td>\n",
       "      <td>5D1291</td>\n",
       "      <td>TOMA DE MUESTRAS-30401090  / CLINICA PATERNON</td>\n",
       "      <td>jul-18</td>\n",
       "      <td>AUXILIAR 1</td>\n",
       "    </tr>\n",
       "  </tbody>\n",
       "</table>\n",
       "</div>"
      ],
      "text/plain": [
       "   ID colaborador Codigo_Cargo  \\\n",
       "0          100000       5D1291   \n",
       "1          100003       5D1291   \n",
       "2          100005       5D1291   \n",
       "3          100012       5D1291   \n",
       "4          100022       5D1291   \n",
       "\n",
       "                                                Area Fecha_Informacion  \\\n",
       "0  ADMINISTRACIÓN LABORATORIO CLÍNICO - 30401080 ...            jul-18   \n",
       "1  PROCESAMIENTO LABORATORIO-30401095  / AUTOPIST...            jul-18   \n",
       "2  TOMA DE MUESTRAS-30401090  / CLINICA JUAN N CO...            jul-18   \n",
       "3       TOMA DE MUESTRAS-30401090  / CLINICA PALERMO            jul-18   \n",
       "4      TOMA DE MUESTRAS-30401090  / CLINICA PATERNON            jul-18   \n",
       "\n",
       "  Descripcion  \n",
       "0  AUXILIAR 1  \n",
       "1  AUXILIAR 1  \n",
       "2  AUXILIAR 1  \n",
       "3  AUXILIAR 1  \n",
       "4  AUXILIAR 1  "
      ]
     },
     "execution_count": 63,
     "metadata": {},
     "output_type": "execute_result"
    }
   ],
   "source": [
    "#El resultado de d1\n",
    "d1.head()"
   ]
  },
  {
   "cell_type": "code",
   "execution_count": 64,
   "metadata": {},
   "outputs": [],
   "source": [
    "#unificando d1 y no_work en un dataframe temporal d12\n",
    "d2 = pd.merge (d1, no_work)"
   ]
  },
  {
   "cell_type": "code",
   "execution_count": 65,
   "metadata": {},
   "outputs": [
    {
     "data": {
      "text/html": [
       "<div>\n",
       "<style scoped>\n",
       "    .dataframe tbody tr th:only-of-type {\n",
       "        vertical-align: middle;\n",
       "    }\n",
       "\n",
       "    .dataframe tbody tr th {\n",
       "        vertical-align: top;\n",
       "    }\n",
       "\n",
       "    .dataframe thead th {\n",
       "        text-align: right;\n",
       "    }\n",
       "</style>\n",
       "<table border=\"1\" class=\"dataframe\">\n",
       "  <thead>\n",
       "    <tr style=\"text-align: right;\">\n",
       "      <th></th>\n",
       "      <th>ID colaborador</th>\n",
       "      <th>Codigo_Cargo</th>\n",
       "      <th>Area</th>\n",
       "      <th>Fecha_Informacion</th>\n",
       "      <th>Descripcion</th>\n",
       "      <th>horas_no_trabajadas</th>\n",
       "    </tr>\n",
       "  </thead>\n",
       "  <tbody>\n",
       "    <tr>\n",
       "      <th>2440</th>\n",
       "      <td>101597</td>\n",
       "      <td>5D1275</td>\n",
       "      <td>PUNTOS DE ATENCION INTEGRAL PAI -27501  / CENT...</td>\n",
       "      <td>jul-18</td>\n",
       "      <td>AUXILIAR 3</td>\n",
       "      <td>84.0</td>\n",
       "    </tr>\n",
       "    <tr>\n",
       "      <th>2441</th>\n",
       "      <td>101691</td>\n",
       "      <td>5D1275</td>\n",
       "      <td>PUNTOS DE ATENCION INTEGRAL PAI -27501  / CENT...</td>\n",
       "      <td>jul-18</td>\n",
       "      <td>AUXILIAR 3</td>\n",
       "      <td>16.0</td>\n",
       "    </tr>\n",
       "    <tr>\n",
       "      <th>2442</th>\n",
       "      <td>102278</td>\n",
       "      <td>5D1275</td>\n",
       "      <td>PUNTOS DE ATENCION INTEGRAL PAI -27501  / CENT...</td>\n",
       "      <td>jul-18</td>\n",
       "      <td>AUXILIAR 3</td>\n",
       "      <td>0.0</td>\n",
       "    </tr>\n",
       "    <tr>\n",
       "      <th>2443</th>\n",
       "      <td>102370</td>\n",
       "      <td>5D1273</td>\n",
       "      <td>CANALES -27504  / CENTRO DE SERVICIOS Y DESARR...</td>\n",
       "      <td>jul-18</td>\n",
       "      <td>AUXILIAR 3</td>\n",
       "      <td>16.0</td>\n",
       "    </tr>\n",
       "    <tr>\n",
       "      <th>2444</th>\n",
       "      <td>102408</td>\n",
       "      <td>5D1273</td>\n",
       "      <td>TRANSAR - 27503  / CENTRO DE SERVICIOS Y DESAR...</td>\n",
       "      <td>jul-18</td>\n",
       "      <td>AUXILIAR 3</td>\n",
       "      <td>54.0</td>\n",
       "    </tr>\n",
       "  </tbody>\n",
       "</table>\n",
       "</div>"
      ],
      "text/plain": [
       "      ID colaborador Codigo_Cargo  \\\n",
       "2440          101597       5D1275   \n",
       "2441          101691       5D1275   \n",
       "2442          102278       5D1275   \n",
       "2443          102370       5D1273   \n",
       "2444          102408       5D1273   \n",
       "\n",
       "                                                   Area Fecha_Informacion  \\\n",
       "2440  PUNTOS DE ATENCION INTEGRAL PAI -27501  / CENT...            jul-18   \n",
       "2441  PUNTOS DE ATENCION INTEGRAL PAI -27501  / CENT...            jul-18   \n",
       "2442  PUNTOS DE ATENCION INTEGRAL PAI -27501  / CENT...            jul-18   \n",
       "2443  CANALES -27504  / CENTRO DE SERVICIOS Y DESARR...            jul-18   \n",
       "2444  TRANSAR - 27503  / CENTRO DE SERVICIOS Y DESAR...            jul-18   \n",
       "\n",
       "     Descripcion  horas_no_trabajadas  \n",
       "2440  AUXILIAR 3                 84.0  \n",
       "2441  AUXILIAR 3                 16.0  \n",
       "2442  AUXILIAR 3                  0.0  \n",
       "2443  AUXILIAR 3                 16.0  \n",
       "2444  AUXILIAR 3                 54.0  "
      ]
     },
     "execution_count": 65,
     "metadata": {},
     "output_type": "execute_result"
    }
   ],
   "source": [
    "#El resultado de d2\n",
    "d2.tail()"
   ]
  },
  {
   "cell_type": "code",
   "execution_count": 67,
   "metadata": {},
   "outputs": [],
   "source": [
    "#unificando d2 y work_hours en el dataframe final dff\n",
    "dff = pd.merge(d2, work_hours)"
   ]
  },
  {
   "cell_type": "code",
   "execution_count": 68,
   "metadata": {},
   "outputs": [],
   "source": [
    "#Se elimina  las columnas no necesarias\n",
    "dff.drop(['Area', 'Fecha_Informacion'], axis = 1, inplace = True)"
   ]
  },
  {
   "cell_type": "code",
   "execution_count": 69,
   "metadata": {},
   "outputs": [],
   "source": [
    "#Se exporta el archivo a base .csv\n",
    "dff.to_csv('Final_Data.csv')"
   ]
  },
  {
   "cell_type": "code",
   "execution_count": 71,
   "metadata": {
    "scrolled": true
   },
   "outputs": [
    {
     "data": {
      "text/html": [
       "<div>\n",
       "<style scoped>\n",
       "    .dataframe tbody tr th:only-of-type {\n",
       "        vertical-align: middle;\n",
       "    }\n",
       "\n",
       "    .dataframe tbody tr th {\n",
       "        vertical-align: top;\n",
       "    }\n",
       "\n",
       "    .dataframe thead th {\n",
       "        text-align: right;\n",
       "    }\n",
       "</style>\n",
       "<table border=\"1\" class=\"dataframe\">\n",
       "  <thead>\n",
       "    <tr style=\"text-align: right;\">\n",
       "      <th></th>\n",
       "      <th>ID colaborador</th>\n",
       "      <th>Codigo_Cargo</th>\n",
       "      <th>Descripcion</th>\n",
       "      <th>horas_no_trabajadas</th>\n",
       "      <th>horas_totales_contratadas</th>\n",
       "    </tr>\n",
       "  </thead>\n",
       "  <tbody>\n",
       "    <tr>\n",
       "      <th>2440</th>\n",
       "      <td>101597</td>\n",
       "      <td>5D1275</td>\n",
       "      <td>AUXILIAR 3</td>\n",
       "      <td>84.0</td>\n",
       "      <td>240</td>\n",
       "    </tr>\n",
       "    <tr>\n",
       "      <th>2441</th>\n",
       "      <td>101691</td>\n",
       "      <td>5D1275</td>\n",
       "      <td>AUXILIAR 3</td>\n",
       "      <td>16.0</td>\n",
       "      <td>240</td>\n",
       "    </tr>\n",
       "    <tr>\n",
       "      <th>2442</th>\n",
       "      <td>102278</td>\n",
       "      <td>5D1275</td>\n",
       "      <td>AUXILIAR 3</td>\n",
       "      <td>0.0</td>\n",
       "      <td>240</td>\n",
       "    </tr>\n",
       "    <tr>\n",
       "      <th>2443</th>\n",
       "      <td>102370</td>\n",
       "      <td>5D1273</td>\n",
       "      <td>AUXILIAR 3</td>\n",
       "      <td>16.0</td>\n",
       "      <td>240</td>\n",
       "    </tr>\n",
       "    <tr>\n",
       "      <th>2444</th>\n",
       "      <td>102408</td>\n",
       "      <td>5D1273</td>\n",
       "      <td>AUXILIAR 3</td>\n",
       "      <td>54.0</td>\n",
       "      <td>240</td>\n",
       "    </tr>\n",
       "  </tbody>\n",
       "</table>\n",
       "</div>"
      ],
      "text/plain": [
       "      ID colaborador Codigo_Cargo Descripcion  horas_no_trabajadas  \\\n",
       "2440          101597       5D1275  AUXILIAR 3                 84.0   \n",
       "2441          101691       5D1275  AUXILIAR 3                 16.0   \n",
       "2442          102278       5D1275  AUXILIAR 3                  0.0   \n",
       "2443          102370       5D1273  AUXILIAR 3                 16.0   \n",
       "2444          102408       5D1273  AUXILIAR 3                 54.0   \n",
       "\n",
       "      horas_totales_contratadas  \n",
       "2440                        240  \n",
       "2441                        240  \n",
       "2442                        240  \n",
       "2443                        240  \n",
       "2444                        240  "
      ]
     },
     "execution_count": 71,
     "metadata": {},
     "output_type": "execute_result"
    }
   ],
   "source": [
    "#El resultado final\n",
    "dff.tail() "
   ]
  },
  {
   "cell_type": "markdown",
   "metadata": {},
   "source": [
    "Finalmente se obtiene una base de datos donde se relaciona:\n",
    "* Id del colaborador\n",
    "* Codigo de cargo que posee\n",
    "* La descripcion de su cargo\n",
    "* Horas no trabajadas\n",
    "* Horas totales contratadas"
   ]
  },
  {
   "cell_type": "markdown",
   "metadata": {},
   "source": [
    "# Analisis Grafico "
   ]
  },
  {
   "cell_type": "code",
   "execution_count": 72,
   "metadata": {},
   "outputs": [],
   "source": [
    "# importando las librerias necesarias\n",
    "import matplotlib.pyplot as plt\n",
    "import seaborn as sns"
   ]
  },
  {
   "cell_type": "code",
   "execution_count": 73,
   "metadata": {},
   "outputs": [
    {
     "data": {
      "text/plain": [
       "0.0"
      ]
     },
     "execution_count": 73,
     "metadata": {},
     "output_type": "execute_result"
    }
   ],
   "source": [
    "dff['horas_no_trabajadas'].min()"
   ]
  },
  {
   "cell_type": "code",
   "execution_count": 75,
   "metadata": {},
   "outputs": [
    {
     "data": {
      "text/plain": [
       "(0, 500)"
      ]
     },
     "execution_count": 75,
     "metadata": {},
     "output_type": "execute_result"
    },
    {
     "data": {
      "image/png": "[encoded data removed]",
      "text/plain": [
       "<Figure size 432x288 with 1 Axes>"
      ]
     },
     "metadata": {
      "needs_background": "light"
     },
     "output_type": "display_data"
    }
   ],
   "source": [
    "# histograma de horas no trabajadas\n",
    "sns.distplot(dff['horas_no_trabajadas'], kde = False)\n",
    "plt.xlim(0,500)"
   ]
  },
  {
   "cell_type": "markdown",
   "metadata": {},
   "source": [
    "Es de resaltar que la mayoria de trabadores estan entre las 50 y 100 horas no trabajadas."
   ]
  },
  {
   "cell_type": "code",
   "execution_count": 77,
   "metadata": {},
   "outputs": [
    {
     "data": {
      "text/plain": [
       "(0, 700)"
      ]
     },
     "execution_count": 77,
     "metadata": {},
     "output_type": "execute_result"
    },
    {
     "data": {
      "image/png": "[encoded data removed]",
      "text/plain": [
       "<Figure size 432x288 with 1 Axes>"
      ]
     },
     "metadata": {
      "needs_background": "light"
     },
     "output_type": "display_data"
    }
   ],
   "source": [
    "#horas contratadas en amarillo y horas no trabajasd en azul\n",
    "fig, ax = plt.subplots()\n",
    "for a in [dff['horas_no_trabajadas'],dff['horas_totales_contratadas']]:\n",
    "    sns.distplot(a, ax=ax, kde=False)\n",
    "ax.set_xlim([0, 700])"
   ]
  },
  {
   "cell_type": "markdown",
   "metadata": {},
   "source": [
    "Para la mayoria de los trabajadores las horas contratadas estan en el rango aproximado de 250-300 horas no trabajadas."
   ]
  },
  {
   "cell_type": "code",
   "execution_count": 82,
   "metadata": {},
   "outputs": [
    {
     "data": {
      "text/plain": [
       "<seaborn.axisgrid.JointGrid at 0x7efffa2cfd00>"
      ]
     },
     "execution_count": 82,
     "metadata": {},
     "output_type": "execute_result"
    },
    {
     "data": {
      "image/png": "[encoded data removed]",
      "text/plain": [
       "<Figure size 432x432 with 3 Axes>"
      ]
     },
     "metadata": {
      "needs_background": "light"
     },
     "output_type": "display_data"
    }
   ],
   "source": [
    "#distribucion unida de las variables horas no trabajadas y horas totales contratadas\n",
    "sns.jointplot(x=\"horas_no_trabajadas\", y=\"horas_totales_contratadas\", data=dff)"
   ]
  },
  {
   "cell_type": "code",
   "execution_count": 80,
   "metadata": {},
   "outputs": [
    {
     "data": {
      "text/plain": [
       "(array([ 0,  1,  2,  3,  4,  5,  6,  7,  8,  9, 10, 11, 12, 13, 14, 15, 16,\n",
       "        17, 18, 19]), <a list of 20 Text xticklabel objects>)"
      ]
     },
     "execution_count": 80,
     "metadata": {},
     "output_type": "execute_result"
    },
    {
     "data": {
      "image/png": "[encoded data removed]",
      "text/plain": [
       "<Figure size 432x288 with 1 Axes>"
      ]
     },
     "metadata": {
      "needs_background": "light"
     },
     "output_type": "display_data"
    }
   ],
   "source": [
    "#horas no trabajadas en relacion al cargo.\n",
    "sns.barplot(x=\"Descripcion\", y=dff[\"horas_no_trabajadas\"], data=dff, ci = None)\n",
    "plt.xticks(rotation=90)\n"
   ]
  },
  {
   "cell_type": "markdown",
   "metadata": {},
   "source": [
    "Se nota que el cargo con la mayor media de horas no trabajas son los 'PROFESIONALES 4', en contraste los cargos con menos horas no trabajadas son los 'CAJEROS' y 'TECNICOS 4'. Existe un rango en el medio de la grafica con una media de horas no trabajadas mayor a 80, es importante verificar que esta pasando con estos cargos, en particular que horas corresponden a horas de ausentismo y que horas corresponden a horas de incapacidad para tomar los correctivos necesarios."
   ]
  },
  {
   "cell_type": "code",
   "execution_count": 81,
   "metadata": {},
   "outputs": [
    {
     "data": {
      "text/plain": [
       "(array([ 0,  1,  2,  3,  4,  5,  6,  7,  8,  9, 10, 11, 12, 13, 14, 15, 16,\n",
       "        17, 18, 19]), <a list of 20 Text xticklabel objects>)"
      ]
     },
     "execution_count": 81,
     "metadata": {},
     "output_type": "execute_result"
    },
    {
     "data": {
      "image/png": "[encoded data removed]",
      "text/plain": [
       "<Figure size 432x288 with 1 Axes>"
      ]
     },
     "metadata": {
      "needs_background": "light"
     },
     "output_type": "display_data"
    }
   ],
   "source": [
    "sns.barplot(x=\"Descripcion\", y=dff[\"horas_totales_contratadas\"], data=dff, ci = None)\n",
    "plt.xticks(rotation=90)"
   ]
  },
  {
   "cell_type": "markdown",
   "metadata": {},
   "source": [
    "En el caso de las horas totales contratadas cabe notar que el cargo con mayor numero de horas contratadas corresponde al cargo de Analista 1, y el de menor numero de horas contratadas corresponde a profesional 1. Otro grupo con alto numero de horas contratadas corresponde al grupo de asesor empresarial, analista 4 y técnico 3. Valdría la pena evaluar este alto numero de horas contratadas en relación al beneficio que estos profesionales aportan a la empresa."
   ]
  },
  {
   "cell_type": "markdown",
   "metadata": {},
   "source": [
    "---"
   ]
  },
  {
   "cell_type": "markdown",
   "metadata": {},
   "source": [
    "**Este ejercicio es parte de una prueba 'técnica' realizada por cierta empresa en la ciudad de Bogotá, CO. Es una prueba enfocada a probar las habilidades de sus candidatos a analistas senior, sin embargo también es usada para probar las habilidades de sus candidatos junior, con la escusa de hacer un test a las habilidades del candidato. La realidad es que se usa para contratar analistas junior, que tengan habilidades cercanas a senior y no pagarles el salario que merecen.**"
   ]
  }
 ],
 "metadata": {
  "kernelspec": {
   "display_name": "Python 3",
   "language": "python",
   "name": "python3"
  },
  "language_info": {
   "codemirror_mode": {
    "name": "ipython",
    "version": 3
   },
   "file_extension": ".py",
   "mimetype": "text/x-python",
   "name": "python",
   "nbconvert_exporter": "python",
   "pygments_lexer": "ipython3",
   "version": "3.8.1"
  }
 },
 "nbformat": 4,
 "nbformat_minor": 2
}
